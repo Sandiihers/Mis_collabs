{
  "nbformat": 4,
  "nbformat_minor": 0,
  "metadata": {
    "colab": {
      "name": "Ruso_compartir.ipynb",
      "provenance": [],
      "collapsed_sections": [],
      "authorship_tag": "ABX9TyOOHuDPS4hFVRP2bb6LU7Mu",
      "include_colab_link": true
    },
    "kernelspec": {
      "name": "python3",
      "display_name": "Python 3"
    },
    "language_info": {
      "name": "python"
    }
  },
  "cells": [
    {
      "cell_type": "markdown",
      "metadata": {
        "id": "view-in-github",
        "colab_type": "text"
      },
      "source": [
        "<a href=\"https://colab.research.google.com/github/Sandiihers/Mis_collabs/blob/main/Ruso_compartir.ipynb\" target=\"_parent\"><img src=\"https://colab.research.google.com/assets/colab-badge.svg\" alt=\"Open In Colab\"/></a>"
      ]
    },
    {
      "cell_type": "markdown",
      "metadata": {
        "id": "HWUlcQ_QPv82"
      },
      "source": [
        "# Verbos de Ruso "
      ]
    },
    {
      "cell_type": "code",
      "metadata": {
        "id": "ydOKpStVFj04"
      },
      "source": [
        ""
      ],
      "execution_count": null,
      "outputs": []
    },
    {
      "cell_type": "code",
      "metadata": {
        "id": "iPbvY56LPukC"
      },
      "source": [
        "import pandas as pd"
      ],
      "execution_count": null,
      "outputs": []
    },
    {
      "cell_type": "code",
      "metadata": {
        "colab": {
          "base_uri": "https://localhost:8080/"
        },
        "id": "42oRUg0xP4Da",
        "outputId": "5704c26b-7dbb-41e9-aaea-d0fcc925801a"
      },
      "source": [
        "from google.colab import drive\n",
        "drive.mount('/content/drive')"
      ],
      "execution_count": null,
      "outputs": [
        {
          "output_type": "stream",
          "name": "stdout",
          "text": [
            "Mounted at /content/drive\n"
          ]
        }
      ]
    },
    {
      "cell_type": "code",
      "metadata": {
        "id": "JGciwjnLoMQJ"
      },
      "source": [
        "from gtts import gTTS #Import Google Text to Speech\n",
        "from IPython.display import Audio #Import Audio method from IPython's Display Class"
      ],
      "execution_count": null,
      "outputs": []
    },
    {
      "cell_type": "code",
      "metadata": {
        "id": "Y9PMS6mKQICy"
      },
      "source": [
        "df=pd.read_csv('/content/drive/MyDrive/Ruso/Ruso verbos.csv')"
      ],
      "execution_count": null,
      "outputs": []
    },
    {
      "cell_type": "code",
      "metadata": {
        "colab": {
          "base_uri": "https://localhost:8080/"
        },
        "id": "THqDaJW4i-Ye",
        "outputId": "08a3d244-f749-4e97-8c78-1950341deed5"
      },
      "source": [
        "!pip install gTTS    #Instala gTTS"
      ],
      "execution_count": null,
      "outputs": [
        {
          "output_type": "stream",
          "name": "stdout",
          "text": [
            "Collecting gTTS\n",
            "  Downloading gTTS-2.2.3-py3-none-any.whl (25 kB)\n",
            "Requirement already satisfied: click in /usr/local/lib/python3.7/dist-packages (from gTTS) (7.1.2)\n",
            "Requirement already satisfied: requests in /usr/local/lib/python3.7/dist-packages (from gTTS) (2.23.0)\n",
            "Requirement already satisfied: six in /usr/local/lib/python3.7/dist-packages (from gTTS) (1.15.0)\n",
            "Requirement already satisfied: certifi>=2017.4.17 in /usr/local/lib/python3.7/dist-packages (from requests->gTTS) (2021.5.30)\n",
            "Requirement already satisfied: urllib3!=1.25.0,!=1.25.1,<1.26,>=1.21.1 in /usr/local/lib/python3.7/dist-packages (from requests->gTTS) (1.24.3)\n",
            "Requirement already satisfied: chardet<4,>=3.0.2 in /usr/local/lib/python3.7/dist-packages (from requests->gTTS) (3.0.4)\n",
            "Requirement already satisfied: idna<3,>=2.5 in /usr/local/lib/python3.7/dist-packages (from requests->gTTS) (2.10)\n",
            "Installing collected packages: gTTS\n",
            "Successfully installed gTTS-2.2.3\n"
          ]
        }
      ]
    },
    {
      "cell_type": "code",
      "metadata": {
        "id": "yMN1dx_asvhT"
      },
      "source": [
        "#quitar espacios en blanco de las columnas\n",
        "df.columns = df.columns.str.strip()\n",
        "df['Infinitivo'] = df['Infinitivo'].str.strip()\n",
        "df['Español'] = df['Español'].str.strip()\n",
        "#https://raullg.com/blog/pandas-eliminar-espacios-nombres-de-columnas-en-python/"
      ],
      "execution_count": null,
      "outputs": []
    },
    {
      "cell_type": "code",
      "metadata": {
        "id": "gPS99wIxtj9g"
      },
      "source": [
        "#Escoger indices\n",
        "df.set_index(\"Número\",inplace=True)"
      ],
      "execution_count": null,
      "outputs": []
    },
    {
      "cell_type": "code",
      "metadata": {
        "colab": {
          "base_uri": "https://localhost:8080/",
          "height": 1000
        },
        "id": "N06UakplRAyG",
        "outputId": "cdcc5eb7-185f-484f-bbc9-64b3909b3cb6"
      },
      "source": [
        "#que solo nos muestre estas columnas\n",
        "df.loc[:, ['Infinitivo', 'Español']]"
      ],
      "execution_count": null,
      "outputs": [
        {
          "output_type": "execute_result",
          "data": {
            "text/html": [
              "<div>\n",
              "<style scoped>\n",
              "    .dataframe tbody tr th:only-of-type {\n",
              "        vertical-align: middle;\n",
              "    }\n",
              "\n",
              "    .dataframe tbody tr th {\n",
              "        vertical-align: top;\n",
              "    }\n",
              "\n",
              "    .dataframe thead th {\n",
              "        text-align: right;\n",
              "    }\n",
              "</style>\n",
              "<table border=\"1\" class=\"dataframe\">\n",
              "  <thead>\n",
              "    <tr style=\"text-align: right;\">\n",
              "      <th></th>\n",
              "      <th>Infinitivo</th>\n",
              "      <th>Español</th>\n",
              "    </tr>\n",
              "    <tr>\n",
              "      <th>Número</th>\n",
              "      <th></th>\n",
              "      <th></th>\n",
              "    </tr>\n",
              "  </thead>\n",
              "  <tbody>\n",
              "    <tr>\n",
              "      <th>1</th>\n",
              "      <td>делать</td>\n",
              "      <td>hacer</td>\n",
              "    </tr>\n",
              "    <tr>\n",
              "      <th>2</th>\n",
              "      <td>рассказывать</td>\n",
              "      <td>narrar, cantar</td>\n",
              "    </tr>\n",
              "    <tr>\n",
              "      <th>3</th>\n",
              "      <td>работать</td>\n",
              "      <td>trabajar</td>\n",
              "    </tr>\n",
              "    <tr>\n",
              "      <th>4</th>\n",
              "      <td>говорить</td>\n",
              "      <td>hablar, decir</td>\n",
              "    </tr>\n",
              "    <tr>\n",
              "      <th>5</th>\n",
              "      <td>показывать</td>\n",
              "      <td>mostrar, enseñar</td>\n",
              "    </tr>\n",
              "    <tr>\n",
              "      <th>6</th>\n",
              "      <td>покупать</td>\n",
              "      <td>comprar</td>\n",
              "    </tr>\n",
              "    <tr>\n",
              "      <th>7</th>\n",
              "      <td>гулять</td>\n",
              "      <td>pasear</td>\n",
              "    </tr>\n",
              "    <tr>\n",
              "      <th>8</th>\n",
              "      <td>строить</td>\n",
              "      <td>construir</td>\n",
              "    </tr>\n",
              "    <tr>\n",
              "      <th>9</th>\n",
              "      <td>читать</td>\n",
              "      <td>leer</td>\n",
              "    </tr>\n",
              "    <tr>\n",
              "      <th>10</th>\n",
              "      <td>слушать</td>\n",
              "      <td>escuchar</td>\n",
              "    </tr>\n",
              "    <tr>\n",
              "      <th>11</th>\n",
              "      <td>объяснять</td>\n",
              "      <td>explicar</td>\n",
              "    </tr>\n",
              "    <tr>\n",
              "      <th>12</th>\n",
              "      <td>курить</td>\n",
              "      <td>fumar</td>\n",
              "    </tr>\n",
              "    <tr>\n",
              "      <th>13</th>\n",
              "      <td>смотреть</td>\n",
              "      <td>mirar</td>\n",
              "    </tr>\n",
              "    <tr>\n",
              "      <th>14</th>\n",
              "      <td>отдыхать</td>\n",
              "      <td>descansar</td>\n",
              "    </tr>\n",
              "    <tr>\n",
              "      <th>15</th>\n",
              "      <td>думать</td>\n",
              "      <td>pensar, creer</td>\n",
              "    </tr>\n",
              "    <tr>\n",
              "      <th>16</th>\n",
              "      <td>знать</td>\n",
              "      <td>saber, conocer</td>\n",
              "    </tr>\n",
              "    <tr>\n",
              "      <th>17</th>\n",
              "      <td>играть</td>\n",
              "      <td>jugar</td>\n",
              "    </tr>\n",
              "    <tr>\n",
              "      <th>18</th>\n",
              "      <td>понимать</td>\n",
              "      <td>entender, comprender</td>\n",
              "    </tr>\n",
              "    <tr>\n",
              "      <th>19</th>\n",
              "      <td>писать</td>\n",
              "      <td>escribir</td>\n",
              "    </tr>\n",
              "    <tr>\n",
              "      <th>20</th>\n",
              "      <td>рисовать</td>\n",
              "      <td>dibujar</td>\n",
              "    </tr>\n",
              "    <tr>\n",
              "      <th>21</th>\n",
              "      <td>танцевать</td>\n",
              "      <td>bailar</td>\n",
              "    </tr>\n",
              "    <tr>\n",
              "      <th>22</th>\n",
              "      <td>любить</td>\n",
              "      <td>gustar , amar</td>\n",
              "    </tr>\n",
              "    <tr>\n",
              "      <th>23</th>\n",
              "      <td>готовить</td>\n",
              "      <td>cocinar</td>\n",
              "    </tr>\n",
              "    <tr>\n",
              "      <th>24</th>\n",
              "      <td>видеть</td>\n",
              "      <td>ver</td>\n",
              "    </tr>\n",
              "    <tr>\n",
              "      <th>25</th>\n",
              "      <td>фотографировать</td>\n",
              "      <td>sacar fotos</td>\n",
              "    </tr>\n",
              "    <tr>\n",
              "      <th>26</th>\n",
              "      <td>советовать</td>\n",
              "      <td>aconsejar</td>\n",
              "    </tr>\n",
              "    <tr>\n",
              "      <th>27</th>\n",
              "      <td>целовать</td>\n",
              "      <td>besar</td>\n",
              "    </tr>\n",
              "    <tr>\n",
              "      <th>28</th>\n",
              "      <td>искать</td>\n",
              "      <td>buscar</td>\n",
              "    </tr>\n",
              "    <tr>\n",
              "      <th>29</th>\n",
              "      <td>спать</td>\n",
              "      <td>dormir</td>\n",
              "    </tr>\n",
              "    <tr>\n",
              "      <th>30</th>\n",
              "      <td>хотеть</td>\n",
              "      <td>querer, desear</td>\n",
              "    </tr>\n",
              "    <tr>\n",
              "      <th>31</th>\n",
              "      <td>заниматься</td>\n",
              "      <td>repasar</td>\n",
              "    </tr>\n",
              "    <tr>\n",
              "      <th>32</th>\n",
              "      <td>учиться</td>\n",
              "      <td>estudiar</td>\n",
              "    </tr>\n",
              "    <tr>\n",
              "      <th>33</th>\n",
              "      <td>купаться</td>\n",
              "      <td>bañarse, meterse al agua</td>\n",
              "    </tr>\n",
              "    <tr>\n",
              "      <th>34</th>\n",
              "      <td>целоваться</td>\n",
              "      <td>besarse</td>\n",
              "    </tr>\n",
              "    <tr>\n",
              "      <th>35</th>\n",
              "      <td>кататься (на велосипеде)</td>\n",
              "      <td>andar en bicicleta</td>\n",
              "    </tr>\n",
              "    <tr>\n",
              "      <th>36</th>\n",
              "      <td>встречаться</td>\n",
              "      <td>quedar de verse</td>\n",
              "    </tr>\n",
              "  </tbody>\n",
              "</table>\n",
              "</div>"
            ],
            "text/plain": [
              "                      Infinitivo                   Español\n",
              "Número                                                    \n",
              "1                         делать                     hacer\n",
              "2                   рассказывать            narrar, cantar\n",
              "3                       работать                  trabajar\n",
              "4                       говорить             hablar, decir\n",
              "5                     показывать          mostrar, enseñar\n",
              "6                       покупать                   comprar\n",
              "7                         гулять                    pasear\n",
              "8                        строить                 construir\n",
              "9                         читать                      leer\n",
              "10                       слушать                  escuchar\n",
              "11                     объяснять                  explicar\n",
              "12                        курить                     fumar\n",
              "13                      смотреть                     mirar\n",
              "14                      отдыхать                 descansar\n",
              "15                        думать             pensar, creer\n",
              "16                         знать            saber, conocer\n",
              "17                        играть                     jugar\n",
              "18                      понимать      entender, comprender\n",
              "19                        писать                  escribir\n",
              "20                      рисовать                   dibujar\n",
              "21                     танцевать                    bailar\n",
              "22                        любить             gustar , amar\n",
              "23                      готовить                   cocinar\n",
              "24                        видеть                       ver\n",
              "25               фотографировать               sacar fotos\n",
              "26                    советовать                 aconsejar\n",
              "27                      целовать                     besar\n",
              "28                        искать                    buscar\n",
              "29                         спать                    dormir\n",
              "30                        хотеть            querer, desear\n",
              "31                    заниматься                   repasar\n",
              "32                       учиться                  estudiar\n",
              "33                      купаться  bañarse, meterse al agua\n",
              "34                    целоваться                   besarse\n",
              "35      кататься (на велосипеде)        andar en bicicleta\n",
              "36                   встречаться           quedar de verse"
            ]
          },
          "metadata": {},
          "execution_count": 9
        }
      ]
    },
    {
      "cell_type": "code",
      "metadata": {
        "id": "gRBA7Ct1Xmf8"
      },
      "source": [
        "#Función para buscar palabras\n",
        "def buscar_por_espaniol(x):\n",
        "  str(x)\n",
        "  print(df.loc[df['Español'].str.contains(x)])\n",
        "def buscar_por_ruso(x):\n",
        "  str(x)\n",
        "  print(df.loc[df['Infinitivo'].str.contains(x)])"
      ],
      "execution_count": null,
      "outputs": []
    },
    {
      "cell_type": "code",
      "metadata": {
        "colab": {
          "base_uri": "https://localhost:8080/"
        },
        "id": "nEYSqbFUbAlD",
        "outputId": "00874352-c5d8-4d4e-fd57-630d8add8eac"
      },
      "source": [
        "buscar_por_espaniol('mirar')"
      ],
      "execution_count": null,
      "outputs": [
        {
          "output_type": "stream",
          "name": "stdout",
          "text": [
            "       Infinitivo Español    я   ты  он  она  мы  вы  они\n",
            "Número                                                   \n",
            "13       смотреть   mirar  NaN  NaN NaN  NaN NaN NaN  NaN\n"
          ]
        }
      ]
    },
    {
      "cell_type": "code",
      "metadata": {
        "colab": {
          "base_uri": "https://localhost:8080/"
        },
        "id": "SHm7iT_VbPXA",
        "outputId": "41cf1adf-787c-4f91-b2bf-8c657ff61cfd"
      },
      "source": [
        "buscar_por_ruso('целоваться')"
      ],
      "execution_count": null,
      "outputs": [
        {
          "output_type": "stream",
          "name": "stdout",
          "text": [
            "        Infinitivo  Español    я   ты  он  она  мы  вы  они\n",
            "Número                                                     \n",
            "34      целоваться  besarse  NaN  NaN NaN  NaN NaN NaN  NaN\n"
          ]
        }
      ]
    },
    {
      "cell_type": "markdown",
      "metadata": {
        "id": "j7yp_8z8qFoA"
      },
      "source": [
        "# Verbos en Ruso (Infinitivo) - Español "
      ]
    },
    {
      "cell_type": "code",
      "metadata": {
        "colab": {
          "base_uri": "https://localhost:8080/",
          "height": 140
        },
        "id": "YanKI9iRcbVh",
        "outputId": "82ee6bcb-6263-4bb0-fe0a-90b95c18bfa5"
      },
      "source": [
        "#Función para que me pregunte los verbos   - infinitivo en Ruso y Español\n",
        "import random \n",
        "aleatorio=random.randint(1,36)\n",
        "print(\"Verbo número: \",aleatorio)\n",
        "#preguntar en español o en ruso\n",
        "idioma=random.randint(0,1)\n",
        "#español=0, ruso=1\n",
        "#pregunta por una palabra en ruso\n",
        "if idioma == 1:\n",
        "  print(\"Cuál es la traducción de la palabra\",df['Infinitivo'][aleatorio])\n",
        "  respuesta = input()\n",
        "  if respuesta == df['Español'][aleatorio]:\n",
        "    print(\"Correcto\")\n",
        "  else: \n",
        "    print(\"Error, la respuesta correcta es:\",df['Español'][aleatorio])\n",
        "elif idioma == 0:\n",
        "  print(\"Cuál es la traducción de la palabra\",df['Español'][aleatorio])\n",
        "  respuesta = input()\n",
        "  if respuesta == df['Infinitivo'][aleatorio]:\n",
        "    print(\"Correcto\")\n",
        "  else: \n",
        "    print(\"Error, la respuesta correcta es:\",df['Infinitivo'][aleatorio])\n",
        "tts = gTTS(df['Infinitivo'][aleatorio], lang='ru') #Provide the string to convert to speech\n",
        "tts.save('1.wav') #save the string converted to speech as a .wav file\n",
        "sound_file = '1.wav'\n",
        "Audio(sound_file, autoplay=True)"
      ],
      "execution_count": null,
      "outputs": [
        {
          "output_type": "stream",
          "name": "stdout",
          "text": [
            "Verbo número:  15\n",
            "Cuál es la traducción de la palabra думать\n",
            "no se\n",
            "Error, la respuesta correcta es: pensar, creer\n"
          ]
        },
        {
          "output_type": "execute_result",
          "data": {
            "text/html": [
              "\n",
              "                <audio controls=\"controls\" autoplay=\"autoplay\">\n",
              "                    <source src=\"data:audio/x-wav;base64,//NExAASSG1YAUwYABHVnANAOCIeMiGAQRGRDBuT7Mcw503bXvyD4gGg+XHBgufD+0u8EHa//8u9v/5Rxc/PlIfEZ8EDl2GChxYPvB9QIBgplHBgu8gq1xGuUm+i5qkt//NExAkSymo4AZs4AN/LE4IwMyHP/9KEu/z1cAseIfV4FAjAPB//5czb9FulTjJh//+e58yv//T2NV1f///oujOfQwgTJo/6L/hBzxAAzVUwYFTSIpYmaqf5VBRkXCGQ//NExBAVgLpwAZzAAIAGOgsYZLZgoOmAh2ELZLhMBOoOBJbtlEKhzEaPNQkFIklJy9UuXKtaSxO3R16T//6LMOA+OElN71C9f4w56Zqyd///e6osAEWhRsDAKNI4hMpB//NExA0ToKJkAd1IALTD4ITAYAQIFBhaKwKEJk0TEAHq6dpzowYIgmJATIZ2afei3sPg1L6ZnkGTbkQbGhga5bkpXGI7yKF/7U+x3//xZUZl5roMIwfOBgJM7QZDA0VE//NExBEW4K5YAO7eTGAYVE5yUANNESwDlA/1nbCDEgVWOzZXQzmSDqpN3reyJKK3ZkW6R48XRUgbOMe6WDKAVULTD/y793c4mQs3fkr9FstjtVO1llCuhYDp2lx41+wS//NExAgUCLKIANMGTBbZ5tW8D55rByVNacDpV2utdxAIARKlMxFyQRQP5yXHgcQOHOE4PooVUGGB8LE5S7UEaYfhgQdFIgDBxb5Qu/yay6CjifqOS6rPv4kiTVBtX/ni//NExAoVITKoAMJKcMCBTGWGUkYIEkJef+4/IQpAIBwXZ3ANFoxUIplJn+rOogSsaadJIgk4s4nEIJpKC7BYWEgsGyRpD1Cz6H3bypI0/QnpMoFGMq9Oqrvee5Jto69q//NExAgTOSKkANPEcGkSDRk5A0VtvCKBj53jKljfWU6S+O3QkUk4kKBAQtJjGVKt6/R/KZilYMODqhqkYbqW4cC4cS+xv///thqulqWYr3SQJfx1ER0CMNji6Ej7ZC4h//NExA4RuIqcAN5eTMbLHp23dHCUI71n/FozPVWq5XxdSWgy3/+VfOnzyLVChtZ4Vc9rz513///9ClGROw0elyxudeLuNO4WZUtE28sSky61Kpskyl+t0hCWqphUXaiR//NExBoQkHacANZeSDRmm6vA8JA1s//rwMVECY/FmLJnxh4Nb///+K1yaSTXH4nSwza1Ikpq3y/Zd45kdX92engQUOQJatP2F9gW1rtu7hMN1ne/upV5z/t7////7o9k//NExCoSmUKcANZEcHbUEQUfSGlEA0IQqZCD1Mf///67lK5YG2kGOKnTag61FdYdqI7nbWJ9W+vQDIRMpn71An6CCD9qCIoHDX3jfyzzVXiB3/a2sNMNVvF2mAAfCB9T//NExDIQMIagANaQSOr///3uq0M0LcABsPsNofyuxJnImIgWGsXrPq08bV6PhUYkGxymiEua/I2tuhAECbdg9n0b6TqgFR/1g4DSxWERx7bFBzf//9O/XTaNJvMIQhXn//NExEQQkJ6sANYSTOdwqEAkbqI2CEOzqU1sUJ4LJdmRADJ6yHqdZgRQaTOXCKPppotqS6+j0Iz53WtK7/92DGY7lGPgyd0lBwz///7MIWvHIzBxKh1Cyq0DMTZrDVY1//NExFQSqXaoANQElFZSWQhfMmQGgrq5ZRtb2H9Nr+wONSTC48z/TqQ1BKg8wGRAZtOyz/WoKVtPDaRzQZSf///1X0fIFKnqSirv4vEe1rq8rINlIJbalKAp3qfTSFzS//NExFwRUJ6kAM4STD+UAgfTrZNd7C7BOr1rsrlwKXAqggOEB671+KCQuDpQiCRvpyf//9n9ez96KsO3mBnmE0KM3AaWra0GCgad8JbKbaG8B0lDAwDEM7EMD4eKA7Ep//NExGkQkJ6kAM4YTDbA7Hrbb0lBKFmzNKCDP8ggCCMICMICBwfzIuldy3UJUp0TOC20BUs02AFFjNlgC8S2cl3VL2RhQ5XMK7LCaTeb5Klid4dEbLHGpe9Lc5s7v3p///NExHkQqKasAM4YTNP3ZzkChnRB1BzSEtRIhlnVKTLX8JWlDedJQp45XiABMK1gQAdOPDQX7YeW9Ls8dZXcVlpDP1CaQzoTel2no/gBTp69P4f3/Lb5HdOJkQQ0ZID2//NExIkSKZ60AMPElZHHfD/Cr4+bh60Ofd////yF/KqO9SBqSshnDt+yKmadnNi1tHU47lr3OaN+oYvhzV+dfFntN9OmjGbGMIcoCJeRXo1u3wv9NUObQwmVItahV7Zr//NExJMUKba0AMPQlI/59YhzL4HEQtZ///9PUq/t0NCnOTJHlmGb5qLoK0VtrJYekABoNLR6ayo1TW+rZtNJgICCMCAUP1JVb+qX8ZeOzBnxEj5YOuiIDAUFf/7LE177//NExJUUKbqwAMPQlDQ48xvqFK6dnTFSO+oiPgUQAgZmabkzqNWqtbP+1t813f//X//3+Ff2/709DHL0f/6f0M8xn/////zNmN//0NK0za/VpsrGLQygJSV4iWaM2WgO//NExJcSsUqgAMqGlAkxowTF0anQWi49iBL9m1EcZFjSskwUjsry0OQoxizcLppr/14bF0d8JQc7MzpoaB3eSXmbLLx+6fyEY+3j7VX6/1nvcTcmmcQ1UXZaM28c6/3h//NExJ8RAxJ8AVkQAE7Zr3kIWQlCvaAGmm+/Tb/Lprd/4n/9m19aEP7Td6MlMsnAOA7qKBiAkUgv1JNDSf26akHdvUt6BuaNsq10rqNDjdSL9A4zsxgtL9NabJJp1WSS//NExK4gEypEAZowAGM03Uplq3dM3PObpomrumZqNCXM7poM+aGiCdSjQxQTLrqTL6jMmE5i+bj4XjIojCJubvJRGipBFZvpEgSyBqS5IMOwuEq5GMswPFxReDkA9mgx//NExIAh8yp4AY1oAESUELIwOYT2BeQIHt/0r7quud/618a/+d/Gc5+f/9Y+vnO9Zxinv9/7x8/3+s61/7en3bNNfe80x66piPauavq77yJ6Y9Mw9P0XuHE65hXruTWq//NExEshsyaIAcd4AOXJkcW9jtHj4fsKv8aJFgOXcFfqmEbc4y4LadokDhSL5aapU+jFs7UcvnQTg8VGSR0r0Wsm8cpTItzg7sR/2oqXc5f////+d312fI2ynDPfuF35//NExBcXiyKgABBSvMM+X/6qmOlj6uVz+f//dzzZjTSlRvJ4nrCaJJM2SSM84bYcw05pBuNtTWQCNdFQoOkJOGTReUJEKqE29XN0LdKCJonNGzK11Tr+9DWX/6///+nk//NExAsRgv6sAUEQAVU6//q9CtYm139vkOQjXW1lbT9mRlNOq6GBhjkYUJUqIxWOex0zGch2coUiiQIwg97mR1QoCoUNpNOkGMVr21+cNC9O3dLd/sqVmf1oZXVRqGS4//NExBgWguqoAYMoAIiN7OFA5SaMxFerkryiY0SFPPYFVtGYkrLQTF1MJigQceWyCt0HIYa1FREErUjjjxw8scSNQSbzkO8yM0clbw9CixEDR6JgaBoGgaO+JQVBX7eC//NExBEP8AJ4AcIYAKDQNA08GQVDXEQNA0DJ2DQNBrwaf+LYKhpYKgqCoLA1rBoGj3+DQNYiBr6gafBVKoEQOiKpaFQWFSFnPqqVUKJOiJ4iDolBUOiUNCIGQ1/1gqCs//NExCQQaFnsAGJGJK8GgaBpYNdjYNA0CoKu8SgrEoKu8qDQNP/1A0DPWjfJE2WgNIqzJbAKWZiVcaTMnMJh+I4cdcxvadmr64ZitJgm1GO7KaSpBvd7nVjsdmXJy+bG//NExDUSmHAsAN84SMazmaboYIvJjy4Glaubwhx0NPnRTtVMQU1FMy4xMDBVVVVVVVVVVVVVVVVVVVVVVVVVVVVVVVVVVVVVVVVVVVVVVVVVVVVVVVVVVVVVTEFNRTMu//NExD0AAANIAAAAADEwMFVVVVVVVVVVVVVVVVVVVVVVVVVVVVVVVVVVVVVVVVVVVVVVVVVVVVVVVVVVVVVVVVVVVVVVVVVVVVVVVVVVVVVVVVVVVVVVVVVVN41DjEIv//NExJAAAANIAAAAAIOIyhUjiWNyu3MSywoKAwToyMVk+2j1G3VkZPtoyTKQMXtYoxkCACRBZ+eiE7u7u58Kue7uSInp6fETiP7nCu79Dv46cQPpEcEcY/B0B4fqeHIH//NExKwAAANIAAAAANI8sIHmDuCOGe/8HR/nEYAMZz3Joo1Xf2K84BBWscSutlgIVYBCZQomGpBVhhRPhW0FRfhPhP67+HdN6b//////x+TeTCVElQsYsY47i/P53nHM//NExKwAAANIAAAAABVE0lYSokWKLFDlj+P7BEVDWSCeaKlq5qGBtyPrVscjVrJZYsBggQMI5Mstn/ZbL////ZbL////////ZkatZLLLAYIEDjkZf3MmWWyyyggYOWWW//NExP8ZwcnQAMJGlVsdDVrJ+ywGCBUVCIqKC34sTEFNRTMuMTAwqqqqqqqqqqqqqqqqqqqqqqqqqqqqqqqqqqqqqqqqqqqqqqqqqqqqqqqqqqqqqqqqqqqqqqqqqqqq//NExOsUwLnoAMGGTaqqqqqqqqqqqqqqqqqqqqqqqqqqqqqqqqqqqqqqqqqqqqqqqqqqqqqqqqqqqqqqqqqqqqqqqqqqqqqqqqqqqqqqqqqqqqqqqqqqqqqqqqqqqqqq//NExOsVerUwAGDGuKqqqqqqqqqqqqqqqqqqqqqqqqqqqqqqqqqqqqqqqqqqqqqqqqqqqqqqqqqqqqqqqqqqqqqqqqqqqqqqqqqqqqqqqqqqqqqqqqqqqqqqqqqqqqqq\" type=\"audio/x-wav\" />\n",
              "                    Your browser does not support the audio element.\n",
              "                </audio>\n",
              "              "
            ],
            "text/plain": [
              "<IPython.lib.display.Audio object>"
            ]
          },
          "metadata": {},
          "execution_count": 135
        }
      ]
    },
    {
      "cell_type": "markdown",
      "metadata": {
        "id": "vTBh2YHn1oIO"
      },
      "source": [
        "# Conjugación de verbos"
      ]
    },
    {
      "cell_type": "code",
      "metadata": {
        "colab": {
          "base_uri": "https://localhost:8080/",
          "height": 386
        },
        "id": "AusdE0Rn0TUu",
        "outputId": "99c05956-79a8-4de6-db06-8f7399c25c8a"
      },
      "source": [
        "aleatorio=random.randint(1,36)\n",
        "print(\"Verbo número: \",aleatorio)\n",
        "#preguntar en español o en ruso\n",
        "pronombre = ['я','ты', 'он', 'она',  'мы',  'вы',  'они']\n",
        "#español=0, ruso=1\n",
        "#pregunta por conjugación de un verbo\n",
        "print(\"Cuál es la conjugación de \", df['Infinitivo'][aleatorio], \"para\" , random.choice(pronombre))\n",
        "respuesta = input()\n",
        "if respuesta == df['Español'][aleatorio]:\n",
        "  print(\"Correcto\")\n",
        "else: \n",
        "  print(\"Error, la respuesta correcta es:\",df[random.choice(idioma)][aleatorio])\n",
        "tts = gTTS(df[random.choice(pronombre)][aleatorio], lang='ru') #Provide the string to convert to speech\n",
        "tts.save('1.wav') #save the string converted to speech as a .wav file\n",
        "sound_file = '1.wav'\n",
        "Audio(sound_file, autoplay=True)"
      ],
      "execution_count": null,
      "outputs": [
        {
          "name": "stdout",
          "output_type": "stream",
          "text": [
            "Verbo número:  27\n",
            "Cuál es la conjugación de  целовать para ты\n",
            "gh\n"
          ]
        },
        {
          "output_type": "error",
          "ename": "TypeError",
          "evalue": "ignored",
          "traceback": [
            "\u001b[0;31m---------------------------------------------------------------------------\u001b[0m",
            "\u001b[0;31mTypeError\u001b[0m                                 Traceback (most recent call last)",
            "\u001b[0;32m<ipython-input-134-6a54bcdce29a>\u001b[0m in \u001b[0;36m<module>\u001b[0;34m()\u001b[0m\n\u001b[1;32m     10\u001b[0m   \u001b[0mprint\u001b[0m\u001b[0;34m(\u001b[0m\u001b[0;34m\"Correcto\"\u001b[0m\u001b[0;34m)\u001b[0m\u001b[0;34m\u001b[0m\u001b[0;34m\u001b[0m\u001b[0m\n\u001b[1;32m     11\u001b[0m \u001b[0;32melse\u001b[0m\u001b[0;34m:\u001b[0m\u001b[0;34m\u001b[0m\u001b[0;34m\u001b[0m\u001b[0m\n\u001b[0;32m---> 12\u001b[0;31m   \u001b[0mprint\u001b[0m\u001b[0;34m(\u001b[0m\u001b[0;34m\"Error, la respuesta correcta es:\"\u001b[0m\u001b[0;34m,\u001b[0m\u001b[0mdf\u001b[0m\u001b[0;34m[\u001b[0m\u001b[0mrandom\u001b[0m\u001b[0;34m.\u001b[0m\u001b[0mchoice\u001b[0m\u001b[0;34m(\u001b[0m\u001b[0midioma\u001b[0m\u001b[0;34m)\u001b[0m\u001b[0;34m]\u001b[0m\u001b[0;34m[\u001b[0m\u001b[0maleatorio\u001b[0m\u001b[0;34m]\u001b[0m\u001b[0;34m)\u001b[0m\u001b[0;34m\u001b[0m\u001b[0;34m\u001b[0m\u001b[0m\n\u001b[0m\u001b[1;32m     13\u001b[0m \u001b[0mtts\u001b[0m \u001b[0;34m=\u001b[0m \u001b[0mgTTS\u001b[0m\u001b[0;34m(\u001b[0m\u001b[0mdf\u001b[0m\u001b[0;34m[\u001b[0m\u001b[0mrandom\u001b[0m\u001b[0;34m.\u001b[0m\u001b[0mchoice\u001b[0m\u001b[0;34m(\u001b[0m\u001b[0mpronombre\u001b[0m\u001b[0;34m)\u001b[0m\u001b[0;34m]\u001b[0m\u001b[0;34m[\u001b[0m\u001b[0maleatorio\u001b[0m\u001b[0;34m]\u001b[0m\u001b[0;34m,\u001b[0m \u001b[0mlang\u001b[0m\u001b[0;34m=\u001b[0m\u001b[0;34m'ru'\u001b[0m\u001b[0;34m)\u001b[0m \u001b[0;31m#Provide the string to convert to speech\u001b[0m\u001b[0;34m\u001b[0m\u001b[0;34m\u001b[0m\u001b[0m\n\u001b[1;32m     14\u001b[0m \u001b[0mtts\u001b[0m\u001b[0;34m.\u001b[0m\u001b[0msave\u001b[0m\u001b[0;34m(\u001b[0m\u001b[0;34m'1.wav'\u001b[0m\u001b[0;34m)\u001b[0m \u001b[0;31m#save the string converted to speech as a .wav file\u001b[0m\u001b[0;34m\u001b[0m\u001b[0;34m\u001b[0m\u001b[0m\n",
            "\u001b[0;32m/usr/lib/python3.7/random.py\u001b[0m in \u001b[0;36mchoice\u001b[0;34m(self, seq)\u001b[0m\n\u001b[1;32m    257\u001b[0m         \u001b[0;34m\"\"\"Choose a random element from a non-empty sequence.\"\"\"\u001b[0m\u001b[0;34m\u001b[0m\u001b[0;34m\u001b[0m\u001b[0m\n\u001b[1;32m    258\u001b[0m         \u001b[0;32mtry\u001b[0m\u001b[0;34m:\u001b[0m\u001b[0;34m\u001b[0m\u001b[0;34m\u001b[0m\u001b[0m\n\u001b[0;32m--> 259\u001b[0;31m             \u001b[0mi\u001b[0m \u001b[0;34m=\u001b[0m \u001b[0mself\u001b[0m\u001b[0;34m.\u001b[0m\u001b[0m_randbelow\u001b[0m\u001b[0;34m(\u001b[0m\u001b[0mlen\u001b[0m\u001b[0;34m(\u001b[0m\u001b[0mseq\u001b[0m\u001b[0;34m)\u001b[0m\u001b[0;34m)\u001b[0m\u001b[0;34m\u001b[0m\u001b[0;34m\u001b[0m\u001b[0m\n\u001b[0m\u001b[1;32m    260\u001b[0m         \u001b[0;32mexcept\u001b[0m \u001b[0mValueError\u001b[0m\u001b[0;34m:\u001b[0m\u001b[0;34m\u001b[0m\u001b[0;34m\u001b[0m\u001b[0m\n\u001b[1;32m    261\u001b[0m             \u001b[0;32mraise\u001b[0m \u001b[0mIndexError\u001b[0m\u001b[0;34m(\u001b[0m\u001b[0;34m'Cannot choose from an empty sequence'\u001b[0m\u001b[0;34m)\u001b[0m \u001b[0;32mfrom\u001b[0m \u001b[0;32mNone\u001b[0m\u001b[0;34m\u001b[0m\u001b[0;34m\u001b[0m\u001b[0m\n",
            "\u001b[0;31mTypeError\u001b[0m: object of type 'int' has no len()"
          ]
        }
      ]
    },
    {
      "cell_type": "code",
      "metadata": {
        "id": "bUzb9qvn2Z-B"
      },
      "source": [
        ""
      ],
      "execution_count": null,
      "outputs": []
    }
  ]
}